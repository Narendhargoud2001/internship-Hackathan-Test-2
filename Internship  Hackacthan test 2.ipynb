{
 "cells": [
  {
   "cell_type": "code",
   "execution_count": 2,
   "id": "46865309",
   "metadata": {},
   "outputs": [],
   "source": [
    "import pandas as pd\n",
    "import numpy as np\n",
    "import matplotlib.pyplot as plt\n",
    "import requests\n",
    "from bs4 import BeautifulSoup"
   ]
  },
  {
   "cell_type": "code",
   "execution_count": 3,
   "id": "a00afb49",
   "metadata": {},
   "outputs": [
    {
     "data": {
      "text/html": [
       "<div>\n",
       "<style scoped>\n",
       "    .dataframe tbody tr th:only-of-type {\n",
       "        vertical-align: middle;\n",
       "    }\n",
       "\n",
       "    .dataframe tbody tr th {\n",
       "        vertical-align: top;\n",
       "    }\n",
       "\n",
       "    .dataframe thead th {\n",
       "        text-align: right;\n",
       "    }\n",
       "</style>\n",
       "<table border=\"1\" class=\"dataframe\">\n",
       "  <thead>\n",
       "    <tr style=\"text-align: right;\">\n",
       "      <th></th>\n",
       "      <th>movieId</th>\n",
       "      <th>title</th>\n",
       "      <th>genres</th>\n",
       "    </tr>\n",
       "  </thead>\n",
       "  <tbody>\n",
       "    <tr>\n",
       "      <th>0</th>\n",
       "      <td>1</td>\n",
       "      <td>Toy Story (1995)</td>\n",
       "      <td>Adventure|Animation|Children|Comedy|Fantasy</td>\n",
       "    </tr>\n",
       "    <tr>\n",
       "      <th>1</th>\n",
       "      <td>2</td>\n",
       "      <td>Jumanji (1995)</td>\n",
       "      <td>Adventure|Children|Fantasy</td>\n",
       "    </tr>\n",
       "    <tr>\n",
       "      <th>2</th>\n",
       "      <td>3</td>\n",
       "      <td>Grumpier Old Men (1995)</td>\n",
       "      <td>Comedy|Romance</td>\n",
       "    </tr>\n",
       "    <tr>\n",
       "      <th>3</th>\n",
       "      <td>4</td>\n",
       "      <td>Waiting to Exhale (1995)</td>\n",
       "      <td>Comedy|Drama|Romance</td>\n",
       "    </tr>\n",
       "    <tr>\n",
       "      <th>4</th>\n",
       "      <td>5</td>\n",
       "      <td>Father of the Bride Part II (1995)</td>\n",
       "      <td>Comedy</td>\n",
       "    </tr>\n",
       "    <tr>\n",
       "      <th>...</th>\n",
       "      <td>...</td>\n",
       "      <td>...</td>\n",
       "      <td>...</td>\n",
       "    </tr>\n",
       "    <tr>\n",
       "      <th>9737</th>\n",
       "      <td>193581</td>\n",
       "      <td>Black Butler: Book of the Atlantic (2017)</td>\n",
       "      <td>Action|Animation|Comedy|Fantasy</td>\n",
       "    </tr>\n",
       "    <tr>\n",
       "      <th>9738</th>\n",
       "      <td>193583</td>\n",
       "      <td>No Game No Life: Zero (2017)</td>\n",
       "      <td>Animation|Comedy|Fantasy</td>\n",
       "    </tr>\n",
       "    <tr>\n",
       "      <th>9739</th>\n",
       "      <td>193585</td>\n",
       "      <td>Flint (2017)</td>\n",
       "      <td>Drama</td>\n",
       "    </tr>\n",
       "    <tr>\n",
       "      <th>9740</th>\n",
       "      <td>193587</td>\n",
       "      <td>Bungo Stray Dogs: Dead Apple (2018)</td>\n",
       "      <td>Action|Animation</td>\n",
       "    </tr>\n",
       "    <tr>\n",
       "      <th>9741</th>\n",
       "      <td>193609</td>\n",
       "      <td>Andrew Dice Clay: Dice Rules (1991)</td>\n",
       "      <td>Comedy</td>\n",
       "    </tr>\n",
       "  </tbody>\n",
       "</table>\n",
       "<p>9742 rows × 3 columns</p>\n",
       "</div>"
      ],
      "text/plain": [
       "      movieId                                      title  \\\n",
       "0           1                           Toy Story (1995)   \n",
       "1           2                             Jumanji (1995)   \n",
       "2           3                    Grumpier Old Men (1995)   \n",
       "3           4                   Waiting to Exhale (1995)   \n",
       "4           5         Father of the Bride Part II (1995)   \n",
       "...       ...                                        ...   \n",
       "9737   193581  Black Butler: Book of the Atlantic (2017)   \n",
       "9738   193583               No Game No Life: Zero (2017)   \n",
       "9739   193585                               Flint (2017)   \n",
       "9740   193587        Bungo Stray Dogs: Dead Apple (2018)   \n",
       "9741   193609        Andrew Dice Clay: Dice Rules (1991)   \n",
       "\n",
       "                                           genres  \n",
       "0     Adventure|Animation|Children|Comedy|Fantasy  \n",
       "1                      Adventure|Children|Fantasy  \n",
       "2                                  Comedy|Romance  \n",
       "3                            Comedy|Drama|Romance  \n",
       "4                                          Comedy  \n",
       "...                                           ...  \n",
       "9737              Action|Animation|Comedy|Fantasy  \n",
       "9738                     Animation|Comedy|Fantasy  \n",
       "9739                                        Drama  \n",
       "9740                             Action|Animation  \n",
       "9741                                       Comedy  \n",
       "\n",
       "[9742 rows x 3 columns]"
      ]
     },
     "execution_count": 3,
     "metadata": {},
     "output_type": "execute_result"
    }
   ],
   "source": [
    "df = pd.read_csv(r\"C:\\Users\\DELL\\Downloads\\movie_data\\movies.csv\")\n",
    "df"
   ]
  },
  {
   "cell_type": "code",
   "execution_count": 4,
   "id": "22937253",
   "metadata": {},
   "outputs": [
    {
     "data": {
      "text/html": [
       "<div>\n",
       "<style scoped>\n",
       "    .dataframe tbody tr th:only-of-type {\n",
       "        vertical-align: middle;\n",
       "    }\n",
       "\n",
       "    .dataframe tbody tr th {\n",
       "        vertical-align: top;\n",
       "    }\n",
       "\n",
       "    .dataframe thead th {\n",
       "        text-align: right;\n",
       "    }\n",
       "</style>\n",
       "<table border=\"1\" class=\"dataframe\">\n",
       "  <thead>\n",
       "    <tr style=\"text-align: right;\">\n",
       "      <th></th>\n",
       "      <th>movieId</th>\n",
       "      <th>title</th>\n",
       "      <th>genres</th>\n",
       "    </tr>\n",
       "  </thead>\n",
       "  <tbody>\n",
       "    <tr>\n",
       "      <th>0</th>\n",
       "      <td>1</td>\n",
       "      <td>Toy Story (1995)</td>\n",
       "      <td>Adventure|Animation|Children|Comedy|Fantasy</td>\n",
       "    </tr>\n",
       "    <tr>\n",
       "      <th>1</th>\n",
       "      <td>2</td>\n",
       "      <td>Jumanji (1995)</td>\n",
       "      <td>Adventure|Children|Fantasy</td>\n",
       "    </tr>\n",
       "    <tr>\n",
       "      <th>2</th>\n",
       "      <td>3</td>\n",
       "      <td>Grumpier Old Men (1995)</td>\n",
       "      <td>Comedy|Romance</td>\n",
       "    </tr>\n",
       "    <tr>\n",
       "      <th>3</th>\n",
       "      <td>4</td>\n",
       "      <td>Waiting to Exhale (1995)</td>\n",
       "      <td>Comedy|Drama|Romance</td>\n",
       "    </tr>\n",
       "    <tr>\n",
       "      <th>4</th>\n",
       "      <td>5</td>\n",
       "      <td>Father of the Bride Part II (1995)</td>\n",
       "      <td>Comedy</td>\n",
       "    </tr>\n",
       "  </tbody>\n",
       "</table>\n",
       "</div>"
      ],
      "text/plain": [
       "   movieId                               title  \\\n",
       "0        1                    Toy Story (1995)   \n",
       "1        2                      Jumanji (1995)   \n",
       "2        3             Grumpier Old Men (1995)   \n",
       "3        4            Waiting to Exhale (1995)   \n",
       "4        5  Father of the Bride Part II (1995)   \n",
       "\n",
       "                                        genres  \n",
       "0  Adventure|Animation|Children|Comedy|Fantasy  \n",
       "1                   Adventure|Children|Fantasy  \n",
       "2                               Comedy|Romance  \n",
       "3                         Comedy|Drama|Romance  \n",
       "4                                       Comedy  "
      ]
     },
     "execution_count": 4,
     "metadata": {},
     "output_type": "execute_result"
    }
   ],
   "source": [
    "df.head()"
   ]
  },
  {
   "cell_type": "code",
   "execution_count": 5,
   "id": "417086e0",
   "metadata": {},
   "outputs": [
    {
     "name": "stdout",
     "output_type": "stream",
     "text": [
      "The shape of the 'movies.csv' file is: (9742, 3)\n"
     ]
    }
   ],
   "source": [
    "# Assuming movies.csv is the name of your file\n",
    "df = pd.read_csv(r\"C:\\Users\\DELL\\Downloads\\movie_data\\movies.csv\")\n",
    "\n",
    "# Print the shape of the DataFrame\n",
    "print(f\"The shape of the 'movies.csv' file is: {df.shape}\")"
   ]
  },
  {
   "cell_type": "code",
   "execution_count": 6,
   "id": "17ab894d",
   "metadata": {},
   "outputs": [
    {
     "data": {
      "text/html": [
       "<div>\n",
       "<style scoped>\n",
       "    .dataframe tbody tr th:only-of-type {\n",
       "        vertical-align: middle;\n",
       "    }\n",
       "\n",
       "    .dataframe tbody tr th {\n",
       "        vertical-align: top;\n",
       "    }\n",
       "\n",
       "    .dataframe thead th {\n",
       "        text-align: right;\n",
       "    }\n",
       "</style>\n",
       "<table border=\"1\" class=\"dataframe\">\n",
       "  <thead>\n",
       "    <tr style=\"text-align: right;\">\n",
       "      <th></th>\n",
       "      <th>userId</th>\n",
       "      <th>movieId</th>\n",
       "      <th>rating</th>\n",
       "      <th>timestamp</th>\n",
       "    </tr>\n",
       "  </thead>\n",
       "  <tbody>\n",
       "    <tr>\n",
       "      <th>0</th>\n",
       "      <td>1</td>\n",
       "      <td>1</td>\n",
       "      <td>4.0</td>\n",
       "      <td>964982703</td>\n",
       "    </tr>\n",
       "    <tr>\n",
       "      <th>1</th>\n",
       "      <td>1</td>\n",
       "      <td>3</td>\n",
       "      <td>4.0</td>\n",
       "      <td>964981247</td>\n",
       "    </tr>\n",
       "    <tr>\n",
       "      <th>2</th>\n",
       "      <td>1</td>\n",
       "      <td>6</td>\n",
       "      <td>4.0</td>\n",
       "      <td>964982224</td>\n",
       "    </tr>\n",
       "    <tr>\n",
       "      <th>3</th>\n",
       "      <td>1</td>\n",
       "      <td>47</td>\n",
       "      <td>5.0</td>\n",
       "      <td>964983815</td>\n",
       "    </tr>\n",
       "    <tr>\n",
       "      <th>4</th>\n",
       "      <td>1</td>\n",
       "      <td>50</td>\n",
       "      <td>5.0</td>\n",
       "      <td>964982931</td>\n",
       "    </tr>\n",
       "    <tr>\n",
       "      <th>...</th>\n",
       "      <td>...</td>\n",
       "      <td>...</td>\n",
       "      <td>...</td>\n",
       "      <td>...</td>\n",
       "    </tr>\n",
       "    <tr>\n",
       "      <th>100831</th>\n",
       "      <td>610</td>\n",
       "      <td>166534</td>\n",
       "      <td>4.0</td>\n",
       "      <td>1493848402</td>\n",
       "    </tr>\n",
       "    <tr>\n",
       "      <th>100832</th>\n",
       "      <td>610</td>\n",
       "      <td>168248</td>\n",
       "      <td>5.0</td>\n",
       "      <td>1493850091</td>\n",
       "    </tr>\n",
       "    <tr>\n",
       "      <th>100833</th>\n",
       "      <td>610</td>\n",
       "      <td>168250</td>\n",
       "      <td>5.0</td>\n",
       "      <td>1494273047</td>\n",
       "    </tr>\n",
       "    <tr>\n",
       "      <th>100834</th>\n",
       "      <td>610</td>\n",
       "      <td>168252</td>\n",
       "      <td>5.0</td>\n",
       "      <td>1493846352</td>\n",
       "    </tr>\n",
       "    <tr>\n",
       "      <th>100835</th>\n",
       "      <td>610</td>\n",
       "      <td>170875</td>\n",
       "      <td>3.0</td>\n",
       "      <td>1493846415</td>\n",
       "    </tr>\n",
       "  </tbody>\n",
       "</table>\n",
       "<p>100836 rows × 4 columns</p>\n",
       "</div>"
      ],
      "text/plain": [
       "        userId  movieId  rating   timestamp\n",
       "0            1        1     4.0   964982703\n",
       "1            1        3     4.0   964981247\n",
       "2            1        6     4.0   964982224\n",
       "3            1       47     5.0   964983815\n",
       "4            1       50     5.0   964982931\n",
       "...        ...      ...     ...         ...\n",
       "100831     610   166534     4.0  1493848402\n",
       "100832     610   168248     5.0  1493850091\n",
       "100833     610   168250     5.0  1494273047\n",
       "100834     610   168252     5.0  1493846352\n",
       "100835     610   170875     3.0  1493846415\n",
       "\n",
       "[100836 rows x 4 columns]"
      ]
     },
     "execution_count": 6,
     "metadata": {},
     "output_type": "execute_result"
    }
   ],
   "source": [
    "df= pd.read_csv(r\"C:\\Users\\DELL\\Downloads\\movie_data\\ratings.csv\")\n",
    "df"
   ]
  },
  {
   "cell_type": "code",
   "execution_count": 7,
   "id": "cd0cc9d8",
   "metadata": {},
   "outputs": [
    {
     "data": {
      "text/html": [
       "<div>\n",
       "<style scoped>\n",
       "    .dataframe tbody tr th:only-of-type {\n",
       "        vertical-align: middle;\n",
       "    }\n",
       "\n",
       "    .dataframe tbody tr th {\n",
       "        vertical-align: top;\n",
       "    }\n",
       "\n",
       "    .dataframe thead th {\n",
       "        text-align: right;\n",
       "    }\n",
       "</style>\n",
       "<table border=\"1\" class=\"dataframe\">\n",
       "  <thead>\n",
       "    <tr style=\"text-align: right;\">\n",
       "      <th></th>\n",
       "      <th>userId</th>\n",
       "      <th>movieId</th>\n",
       "      <th>rating</th>\n",
       "      <th>timestamp</th>\n",
       "    </tr>\n",
       "  </thead>\n",
       "  <tbody>\n",
       "    <tr>\n",
       "      <th>0</th>\n",
       "      <td>1</td>\n",
       "      <td>1</td>\n",
       "      <td>4.0</td>\n",
       "      <td>964982703</td>\n",
       "    </tr>\n",
       "    <tr>\n",
       "      <th>1</th>\n",
       "      <td>1</td>\n",
       "      <td>3</td>\n",
       "      <td>4.0</td>\n",
       "      <td>964981247</td>\n",
       "    </tr>\n",
       "    <tr>\n",
       "      <th>2</th>\n",
       "      <td>1</td>\n",
       "      <td>6</td>\n",
       "      <td>4.0</td>\n",
       "      <td>964982224</td>\n",
       "    </tr>\n",
       "    <tr>\n",
       "      <th>3</th>\n",
       "      <td>1</td>\n",
       "      <td>47</td>\n",
       "      <td>5.0</td>\n",
       "      <td>964983815</td>\n",
       "    </tr>\n",
       "    <tr>\n",
       "      <th>4</th>\n",
       "      <td>1</td>\n",
       "      <td>50</td>\n",
       "      <td>5.0</td>\n",
       "      <td>964982931</td>\n",
       "    </tr>\n",
       "  </tbody>\n",
       "</table>\n",
       "</div>"
      ],
      "text/plain": [
       "   userId  movieId  rating  timestamp\n",
       "0       1        1     4.0  964982703\n",
       "1       1        3     4.0  964981247\n",
       "2       1        6     4.0  964982224\n",
       "3       1       47     5.0  964983815\n",
       "4       1       50     5.0  964982931"
      ]
     },
     "execution_count": 7,
     "metadata": {},
     "output_type": "execute_result"
    }
   ],
   "source": [
    "df.head()"
   ]
  },
  {
   "cell_type": "code",
   "execution_count": 8,
   "id": "a502cf9d",
   "metadata": {},
   "outputs": [
    {
     "name": "stdout",
     "output_type": "stream",
     "text": [
      "The shape of the 'ratings.csv' file is: (100836, 4)\n"
     ]
    }
   ],
   "source": [
    "# Assuming ratings.csv is the name of your file\n",
    "df = pd.read_csv(r\"C:\\Users\\DELL\\Downloads\\movie_data\\ratings.csv\")\n",
    "\n",
    "# Print the shape of the DataFrame\n",
    "print(f\"The shape of the 'ratings.csv' file is: {df.shape}\")"
   ]
  },
  {
   "cell_type": "code",
   "execution_count": 9,
   "id": "b1b9d0c4",
   "metadata": {},
   "outputs": [
    {
     "name": "stdout",
     "output_type": "stream",
     "text": [
      "The number of unique userId entries is: 610\n"
     ]
    }
   ],
   "source": [
    "\n",
    "# Assuming ratings.csv is the name of your file\n",
    "df = pd.read_csv(r\"C:\\Users\\DELL\\Downloads\\movie_data\\ratings.csv\")\n",
    "\n",
    "# Count the number of unique userId entries\n",
    "unique_users = df['userId'].nunique()\n",
    "\n",
    "print(f\"The number of unique userId entries is: {unique_users}\")"
   ]
  },
  {
   "cell_type": "code",
   "execution_count": 10,
   "id": "24cd224a",
   "metadata": {},
   "outputs": [
    {
     "name": "stdout",
     "output_type": "stream",
     "text": [
      "Movie with the maximum number of ratings:\n",
      "                   title                    genres\n",
      "314  Forrest Gump (1994)  Comedy|Drama|Romance|War\n"
     ]
    }
   ],
   "source": [
    "# Assuming ratings.csv is the name of your file\n",
    "df_ratings = pd.read_csv(r\"C:\\Users\\DELL\\Downloads\\movie_data\\ratings.csv\")\n",
    "\n",
    "# Group by movieId and count the number of ratings for each movie\n",
    "ratings_count = df_ratings.groupby('movieId')['rating'].count()\n",
    "\n",
    "# Find the movie with the maximum number of ratings\n",
    "max_ratings_movie_id = ratings_count.idxmax()\n",
    "\n",
    "# Now you can get the movie details from the movies.csv file\n",
    "df_movies = pd.read_csv(r\"C:\\Users\\DELL\\Downloads\\movie_data\\movies.csv\")\n",
    "max_ratings_movie_details = df_movies[df_movies['movieId'] == max_ratings_movie_id]\n",
    "\n",
    "print(\"Movie with the maximum number of ratings:\")\n",
    "print(max_ratings_movie_details[['title', 'genres']])"
   ]
  },
  {
   "cell_type": "code",
   "execution_count": 11,
   "id": "b87d03ab",
   "metadata": {},
   "outputs": [
    {
     "name": "stdout",
     "output_type": "stream",
     "text": [
      "Tags submitted by users for 'The Matrix (1999)':\n",
      "martial arts\n",
      "sci-fi\n",
      "alternate universe\n",
      "philosophy\n",
      "post apocalyptic\n"
     ]
    }
   ],
   "source": [
    "import pandas as pd\n",
    "\n",
    "# Assuming you have a dataset with tags, let's call it \"tags.csv\"\n",
    "tags_path = \"tags.csv\"\n",
    "\n",
    "# Assuming you have a dataset with movies, let's call it \"movies.csv\"\n",
    "movies_path = \"movies.csv\"\n",
    "\n",
    "# Load the datasets into Pandas DataFrames\n",
    "tags_df = pd.read_csv(r\"C:\\Users\\DELL\\Downloads\\movie_data\\tags.csv\")\n",
    "movies_df = pd.read_csv(r\"C:\\Users\\DELL\\Downloads\\movie_data\\movies.csv\")\n",
    "\n",
    "# Find the movieId for \"The Matrix (1999)\"\n",
    "matrix_movie_id = movies_df[movies_df['title'] == 'Matrix, The (1999)']['movieId'].values[0]\n",
    "\n",
    "# Filter the tags for the specific movieId\n",
    "matrix_tags = tags_df[tags_df['movieId'] == matrix_movie_id]\n",
    "\n",
    "# Display the unique tags submitted by users for \"The Matrix (1999)\"\n",
    "unique_tags = matrix_tags['tag'].unique()\n",
    "print(\"Tags submitted by users for 'The Matrix (1999)':\")\n",
    "for tag in unique_tags:\n",
    "    print(tag)"
   ]
  },
  {
   "cell_type": "code",
   "execution_count": 12,
   "id": "1e13d13f",
   "metadata": {},
   "outputs": [
    {
     "name": "stdout",
     "output_type": "stream",
     "text": [
      "Average user rating for 'Terminator 2: Judgment Day (1991)': 3.970982142857143\n"
     ]
    }
   ],
   "source": [
    "# Assuming you have a dataset with ratings, let's call it \"ratings.csv\"\n",
    "ratings_path = \"ratings.csv\"\n",
    "\n",
    "# Assuming you have a dataset with movies, let's call it \"movies.csv\"\n",
    "movies_path = \"movies.csv\"\n",
    "\n",
    "# Load the datasets into Pandas DataFrames\n",
    "ratings_df = pd.read_csv(r\"C:\\Users\\DELL\\Downloads\\movie_data\\ratings.csv\")\n",
    "movies_df = pd.read_csv(r\"C:\\Users\\DELL\\Downloads\\movie_data\\movies.csv\")\n",
    "\n",
    "# Find the movieId for \"Terminator 2: Judgment Day (1991)\"\n",
    "terminator_2_movie_id = movies_df[\n",
    "    (movies_df['title'] == 'Terminator 2: Judgment Day (1991)') \n",
    "    \n",
    "]['movieId'].values[0]\n",
    "\n",
    "# Filter the ratings for the specific movieId\n",
    "terminator_2_ratings = ratings_df[ratings_df['movieId'] == terminator_2_movie_id]\n",
    "\n",
    "# Calculate the average user rating for \"Terminator 2: Judgment Day (1991)\"\n",
    "average_rating = terminator_2_ratings['rating'].mean()\n",
    "\n",
    "# Display the result\n",
    "print(\"Average user rating for 'Terminator 2: Judgment Day (1991)':\", average_rating)"
   ]
  },
  {
   "cell_type": "code",
   "execution_count": 13,
   "id": "b3a948fa",
   "metadata": {},
   "outputs": [
    {
     "data": {
      "image/png": "[encoded data removed]",
      "text/plain": [
       "<Figure size 640x480 with 1 Axes>"
      ]
     },
     "metadata": {},
     "output_type": "display_data"
    }
   ],
   "source": [
    "# Assuming you have a dataset with ratings, let's call it \"ratings.csv\"\n",
    "ratings_path = \"ratings.csv\"\n",
    "\n",
    "# Assuming you have a dataset with movies, let's call it \"movies.csv\"\n",
    "movies_path = \"movies.csv\"\n",
    "\n",
    "# Load the datasets into Pandas DataFrames\n",
    "ratings_df = pd.read_csv(r\"C:\\Users\\DELL\\Downloads\\movie_data\\ratings.csv\")\n",
    "movies_df = pd.read_csv(r\"C:\\Users\\DELL\\Downloads\\movie_data\\movies.csv\")\n",
    "\n",
    "# Find the movieId for \"Fight Club (1999)\"\n",
    "fight_club_movie_id = movies_df[\n",
    "    (movies_df['title'] == 'Fight Club (1999)') \n",
    "    \n",
    "]['movieId'].values[0]\n",
    "\n",
    "# Filter the ratings for the specific movieId\n",
    "fight_club_ratings = ratings_df[ratings_df['movieId'] == fight_club_movie_id]\n",
    "\n",
    "# Plot the histogram\n",
    "plt.hist(fight_club_ratings['rating'], bins=5, edgecolor='black')\n",
    "plt.title('User Ratings Distribution for \"Fight Club (1999)\"')\n",
    "plt.xlabel('Rating')\n",
    "plt.ylabel('Number of Users')\n",
    "plt.show()"
   ]
  },
  {
   "cell_type": "code",
   "execution_count": 14,
   "id": "76ab9b43",
   "metadata": {},
   "outputs": [
    {
     "name": "stdout",
     "output_type": "stream",
     "text": [
      "      movieId  rating_count  average_rating\n",
      "0           1           215        3.920930\n",
      "1           2           110        3.431818\n",
      "2           3            52        3.259615\n",
      "3           4             7        2.357143\n",
      "4           5            49        3.071429\n",
      "...       ...           ...             ...\n",
      "9719   193581             1        4.000000\n",
      "9720   193583             1        3.500000\n",
      "9721   193585             1        3.500000\n",
      "9722   193587             1        3.500000\n",
      "9723   193609             1        4.000000\n",
      "\n",
      "[9724 rows x 3 columns]\n"
     ]
    }
   ],
   "source": [
    "# Assuming you have a dataset with ratings, let's call it \"ratings.csv\"\n",
    "ratings_path = \"ratings.csv\"\n",
    "\n",
    "# Load the dataset into a Pandas DataFrame\n",
    "ratings_df = pd.read_csv(r\"C:\\Users\\DELL\\Downloads\\movie_data\\ratings.csv\")\n",
    "\n",
    "# Group the user ratings based on movieId\n",
    "grouped_df = ratings_df.groupby('movieId').agg({'rating': ['count', 'mean']}).reset_index()\n",
    "\n",
    "# Rename the columns for clarity\n",
    "grouped_df.columns = ['movieId', 'rating_count', 'average_rating']\n",
    "\n",
    "# Display the grouped DataFrame\n",
    "print(grouped_df)"
   ]
  },
  {
   "cell_type": "code",
   "execution_count": 15,
   "id": "0d398087",
   "metadata": {},
   "outputs": [
    {
     "name": "stdout",
     "output_type": "stream",
     "text": [
      "      movieId  rating_count  average_rating  \\\n",
      "0           1           215        3.920930   \n",
      "1           2           110        3.431818   \n",
      "2           3            52        3.259615   \n",
      "3           4             7        2.357143   \n",
      "4           5            49        3.071429   \n",
      "...       ...           ...             ...   \n",
      "9719   193581             1        4.000000   \n",
      "9720   193583             1        3.500000   \n",
      "9721   193585             1        3.500000   \n",
      "9722   193587             1        3.500000   \n",
      "9723   193609             1        4.000000   \n",
      "\n",
      "                                          title  \\\n",
      "0                              Toy Story (1995)   \n",
      "1                                Jumanji (1995)   \n",
      "2                       Grumpier Old Men (1995)   \n",
      "3                      Waiting to Exhale (1995)   \n",
      "4            Father of the Bride Part II (1995)   \n",
      "...                                         ...   \n",
      "9719  Black Butler: Book of the Atlantic (2017)   \n",
      "9720               No Game No Life: Zero (2017)   \n",
      "9721                               Flint (2017)   \n",
      "9722        Bungo Stray Dogs: Dead Apple (2018)   \n",
      "9723        Andrew Dice Clay: Dice Rules (1991)   \n",
      "\n",
      "                                           genres  \n",
      "0     Adventure|Animation|Children|Comedy|Fantasy  \n",
      "1                      Adventure|Children|Fantasy  \n",
      "2                                  Comedy|Romance  \n",
      "3                            Comedy|Drama|Romance  \n",
      "4                                          Comedy  \n",
      "...                                           ...  \n",
      "9719              Action|Animation|Comedy|Fantasy  \n",
      "9720                     Animation|Comedy|Fantasy  \n",
      "9721                                        Drama  \n",
      "9722                             Action|Animation  \n",
      "9723                                       Comedy  \n",
      "\n",
      "[9724 rows x 5 columns]\n"
     ]
    }
   ],
   "source": [
    "# Assuming you have a grouped DataFrame from step 1 (grouped_df)\n",
    "# and a DataFrame from movies.csv (let's call it \"movies_df\")\n",
    "grouped_df = grouped_df  # Replace this with the actual DataFrame from step 1\n",
    "movies_df = pd.read_csv(r\"C:\\Users\\DELL\\Downloads\\movie_data\\movies.csv\")\n",
    "\n",
    "# Perform inner join on movieId\n",
    "merged_df = pd.merge(grouped_df, movies_df, on='movieId', how='inner')\n",
    "\n",
    "# Display the merged DataFrame\n",
    "print(merged_df)"
   ]
  },
  {
   "cell_type": "code",
   "execution_count": 16,
   "id": "1d36440a",
   "metadata": {},
   "outputs": [
    {
     "name": "stdout",
     "output_type": "stream",
     "text": [
      "      movieId  rating_count  average_rating                             title  \\\n",
      "0           1           215        3.920930                  Toy Story (1995)   \n",
      "1           2           110        3.431818                    Jumanji (1995)   \n",
      "2           3            52        3.259615           Grumpier Old Men (1995)   \n",
      "5           6           102        3.946078                       Heat (1995)   \n",
      "6           7            54        3.185185                    Sabrina (1995)   \n",
      "...       ...           ...             ...                               ...   \n",
      "8287   106782            54        3.916667   Wolf of Wall Street, The (2013)   \n",
      "8354   109374            52        3.778846  Grand Budapest Hotel, The (2014)   \n",
      "8358   109487            73        3.993151               Interstellar (2014)   \n",
      "8457   112852            59        4.050847    Guardians of the Galaxy (2014)   \n",
      "8673   122904            54        3.833333                   Deadpool (2016)   \n",
      "\n",
      "                                           genres  \n",
      "0     Adventure|Animation|Children|Comedy|Fantasy  \n",
      "1                      Adventure|Children|Fantasy  \n",
      "2                                  Comedy|Romance  \n",
      "5                           Action|Crime|Thriller  \n",
      "6                                  Comedy|Romance  \n",
      "...                                           ...  \n",
      "8287                           Comedy|Crime|Drama  \n",
      "8354                                 Comedy|Drama  \n",
      "8358                                  Sci-Fi|IMAX  \n",
      "8457                      Action|Adventure|Sci-Fi  \n",
      "8673               Action|Adventure|Comedy|Sci-Fi  \n",
      "\n",
      "[436 rows x 5 columns]\n"
     ]
    }
   ],
   "source": [
    "# Assuming you have the merged DataFrame from step 2 (let's call it \"merged_df\")\n",
    "merged_df = merged_df  # Replace this with the actual merged DataFrame\n",
    "\n",
    "# Filter movies with more than 50 user ratings\n",
    "filtered_df = merged_df[merged_df['rating_count'] > 50]\n",
    "\n",
    "# Display the filtered DataFrame\n",
    "print(filtered_df)"
   ]
  },
  {
   "cell_type": "code",
   "execution_count": 17,
   "id": "ef9e1277",
   "metadata": {},
   "outputs": [
    {
     "name": "stdout",
     "output_type": "stream",
     "text": [
      "Most popular movie based on average user ratings:\n",
      "Title: Shawshank Redemption, The (1994)\n",
      "Average Rating: 4.429022082018927\n"
     ]
    }
   ],
   "source": [
    "# Assuming you have the filtered DataFrame from the mandatory operations (let's call it \"filtered_df\")\n",
    "filtered_df = filtered_df  # Replace this with the actual filtered DataFrame\n",
    "\n",
    "# Find the movie with the highest average rating\n",
    "most_popular_movie = filtered_df.loc[filtered_df['average_rating'].idxmax()]\n",
    "\n",
    "# Display the most popular movie\n",
    "print(\"Most popular movie based on average user ratings:\")\n",
    "print(\"Title:\", most_popular_movie['title'])\n",
    "print(\"Average Rating:\", most_popular_movie['average_rating'])"
   ]
  },
  {
   "cell_type": "code",
   "execution_count": 18,
   "id": "51da255d",
   "metadata": {},
   "outputs": [
    {
     "name": "stdout",
     "output_type": "stream",
     "text": [
      "Top 5 popular movies based on number of user ratings:\n",
      "Title: Forrest Gump (1994)\n",
      "Number of User Ratings: 329\n",
      "Average Rating: 4.164133738601824\n",
      "------------------------\n",
      "Title: Shawshank Redemption, The (1994)\n",
      "Number of User Ratings: 317\n",
      "Average Rating: 4.429022082018927\n",
      "------------------------\n",
      "Title: Pulp Fiction (1994)\n",
      "Number of User Ratings: 307\n",
      "Average Rating: 4.197068403908795\n",
      "------------------------\n",
      "Title: Silence of the Lambs, The (1991)\n",
      "Number of User Ratings: 279\n",
      "Average Rating: 4.161290322580645\n",
      "------------------------\n",
      "Title: Matrix, The (1999)\n",
      "Number of User Ratings: 278\n",
      "Average Rating: 4.192446043165468\n",
      "------------------------\n"
     ]
    }
   ],
   "source": [
    "# Assuming you have the filtered DataFrame from the mandatory operations (let's call it \"filtered_df\")\n",
    "filtered_df = filtered_df  # Replace this with the actual filtered DataFrame\n",
    "\n",
    "# Sort the DataFrame by 'rating_count' in descending order\n",
    "top_movies_by_ratings = filtered_df.sort_values(by='rating_count', ascending=False).head(5)\n",
    "\n",
    "# Display the top 5 movies based on number of user ratings\n",
    "print(\"Top 5 popular movies based on number of user ratings:\")\n",
    "for index, row in top_movies_by_ratings.iterrows():\n",
    "    print(\"Title:\", row['title'])\n",
    "    print(\"Number of User Ratings:\", row['rating_count'])\n",
    "    print(\"Average Rating:\", row['average_rating'])\n",
    "    print(\"------------------------\")"
   ]
  },
  {
   "cell_type": "code",
   "execution_count": 19,
   "id": "cadf26e1",
   "metadata": {},
   "outputs": [
    {
     "name": "stdout",
     "output_type": "stream",
     "text": [
      "Third most popular Sci-Fi movie based on number of user ratings:\n",
      "Title: Jurassic Park (1993)\n",
      "Number of User Ratings: 238\n",
      "Average Rating: 3.75\n"
     ]
    }
   ],
   "source": [
    "# Assuming you have the filtered DataFrame from the mandatory operations (let's call it \"filtered_df\")\n",
    "filtered_df = filtered_df  # Replace this with the actual filtered DataFrame\n",
    "\n",
    "# Filter the DataFrame to include only Sci-Fi movies\n",
    "scifi_movies_df = filtered_df[filtered_df['genres'].str.contains('Sci-Fi', case=False, na=False)]\n",
    "\n",
    "# Sort the Sci-Fi movies DataFrame by 'rating_count' in descending order\n",
    "sorted_scifi_movies = scifi_movies_df.sort_values(by='rating_count', ascending=False)\n",
    "\n",
    "# Select the third most popular Sci-Fi movie\n",
    "third_most_popular_scifi_movie = sorted_scifi_movies.iloc[2]\n",
    "\n",
    "# Display the third most popular Sci-Fi movie\n",
    "print(\"Third most popular Sci-Fi movie based on number of user ratings:\")\n",
    "print(\"Title:\", third_most_popular_scifi_movie['title'])\n",
    "print(\"Number of User Ratings:\", third_most_popular_scifi_movie['rating_count'])\n",
    "print(\"Average Rating:\", third_most_popular_scifi_movie['average_rating'])"
   ]
  },
  {
   "cell_type": "code",
   "execution_count": 20,
   "id": "c0895b33",
   "metadata": {},
   "outputs": [
    {
     "name": "stdout",
     "output_type": "stream",
     "text": [
      "Requirement already satisfied: pandas in c:\\users\\dell\\anaconda3\\lib\\site-packages (1.5.3)\n",
      "Requirement already satisfied: requests in c:\\users\\dell\\anaconda3\\lib\\site-packages (2.28.1)\n",
      "Requirement already satisfied: beautifulsoup4 in c:\\users\\dell\\anaconda3\\lib\\site-packages (4.11.1)\n",
      "Requirement already satisfied: numpy>=1.21.0 in c:\\users\\dell\\anaconda3\\lib\\site-packages (from pandas) (1.23.5)\n",
      "Requirement already satisfied: python-dateutil>=2.8.1 in c:\\users\\dell\\anaconda3\\lib\\site-packages (from pandas) (2.8.2)\n",
      "Requirement already satisfied: pytz>=2020.1 in c:\\users\\dell\\anaconda3\\lib\\site-packages (from pandas) (2022.7)\n",
      "Requirement already satisfied: certifi>=2017.4.17 in c:\\users\\dell\\anaconda3\\lib\\site-packages (from requests) (2022.12.7)\n",
      "Requirement already satisfied: urllib3<1.27,>=1.21.1 in c:\\users\\dell\\anaconda3\\lib\\site-packages (from requests) (1.26.14)\n",
      "Requirement already satisfied: charset-normalizer<3,>=2 in c:\\users\\dell\\anaconda3\\lib\\site-packages (from requests) (2.0.4)\n",
      "Requirement already satisfied: idna<4,>=2.5 in c:\\users\\dell\\anaconda3\\lib\\site-packages (from requests) (3.4)\n",
      "Requirement already satisfied: soupsieve>1.2 in c:\\users\\dell\\anaconda3\\lib\\site-packages (from beautifulsoup4) (2.3.2.post1)\n",
      "Requirement already satisfied: six>=1.5 in c:\\users\\dell\\anaconda3\\lib\\site-packages (from python-dateutil>=2.8.1->pandas) (1.16.0)\n",
      "Note: you may need to restart the kernel to use updated packages.\n"
     ]
    }
   ],
   "source": [
    "pip install pandas requests beautifulsoup4"
   ]
  },
  {
   "cell_type": "markdown",
   "id": "30018148",
   "metadata": {},
   "source": [
    "\n",
    "# IMPORTANT NOTE 2\n",
    "###### You already have a subset of data containing only those movies which has recieved more than 50 user ratings.\n",
    "\n",
    "#### Using \"links.csv\", scrape the IMDB reviews of each movie with more than 50 user ratings. \"README.md\" file contains the required details.\n"
   ]
  },
  {
   "cell_type": "code",
   "execution_count": 21,
   "id": "1d864274",
   "metadata": {},
   "outputs": [],
   "source": [
    "# We thought of giving you a gift this new year by sharing the web scraping script\n",
    "# Understanding the script before using is always appreciated\n",
    "# We left few blanks in the script for your exploration\n",
    "# Make sure to replace FILL_IN_THE_BLANK in the code to make it work\n",
    "import requests\n",
    "import numpy as np\n",
    "from bs4 import BeautifulSoup\n",
    "\n",
    "def scrapper(imdbId):\n",
    "    id = str(int(imdbId))\n",
    "    n_zeroes = 7 - len(id)\n",
    "    new_id = \"0\"*n_zeroes + id\n",
    "    URL = f\"https://www.imdb.com/title/tt%7Bnew_id%7D/\"\n",
    "    request_header = {'Content-Type': 'text/html; charset=UTF-8', \n",
    "                      'User-Agent': 'Mozilla/5.0 (Windows NT 10.0; Win64; x64; rv:109.0) Gecko/20100101 Firefox/119.0', \n",
    "                      'Accept-Encoding': 'gzip, deflate, br'}\n",
    "    response = requests.FILL_IN_THE_BLANK(URL, headers=request_header)\n",
    "    soup = FILL_IN_THE_BLANK(response.text)\n",
    "    imdb_rating = soup.find('FILL_IN_THE_BLANK', attrs={'FILL_IN_THE_BLANK' : 'FILL_IN_THE_BLANK'})\n",
    "    return imdb_rating.text if imdb_rating else np.nan"
   ]
  },
  {
   "cell_type": "code",
   "execution_count": 23,
   "id": "b59a18da",
   "metadata": {},
   "outputs": [
    {
     "name": "stdout",
     "output_type": "stream",
     "text": [
      "Movie with the highest rating:\n",
      "movieId: 47.0\n",
      "Rating: 5.0\n"
     ]
    }
   ],
   "source": [
    "# Assuming you have a DataFrame with IMDb ratings and movieId\n",
    "# Let's call it imdb_ratings_df\n",
    "imdb_ratings_df = pd.read_csv(r\"C:\\Users\\DELL\\Downloads\\movie_data\\ratings.csv\")\n",
    "\n",
    "# Assuming the DataFrame has columns 'movieId' and 'rating'\n",
    "# Find the movie with the highest rating\n",
    "highest_rated_movie = imdb_ratings_df.loc[imdb_ratings_df['rating'].idxmax()]\n",
    "\n",
    "# Display the result\n",
    "print(\"Movie with the highest rating:\")\n",
    "print(\"movieId:\", highest_rated_movie['movieId'])\n",
    "print(\"Rating:\", highest_rated_movie['rating'])"
   ]
  },
  {
   "cell_type": "code",
   "execution_count": 25,
   "id": "6ae1be64",
   "metadata": {},
   "outputs": [
    {
     "name": "stdout",
     "output_type": "stream",
     "text": [
      "Sci-Fi movie with the highest IMDb rating:\n",
      "movieId: 260\n",
      "IMDb Rating: 5.0\n"
     ]
    }
   ],
   "source": [
    "# Assuming you have a DataFrame with IMDb ratings\n",
    "imdb_ratings_df = pd.read_csv(r\"C:\\Users\\DELL\\Downloads\\movie_data\\ratings.csv\")\n",
    "\n",
    "# Assuming you have a DataFrame with movie information (including genres)\n",
    "movies_df = pd.read_csv(r\"C:\\Users\\DELL\\Downloads\\movie_data\\movies.csv\")\n",
    "\n",
    "\n",
    "# Assuming you have a DataFrame with links between movieId and IMDb ID\n",
    "links_df = pd.read_csv(r\"C:\\Users\\DELL\\Downloads\\movie_data\\links.csv\")\n",
    "\n",
    "# Merge IMDb ratings with movie information\n",
    "merged_df = pd.merge(imdb_ratings_df, movies_df, on='movieId', how='inner')\n",
    "\n",
    "# Merge with links to get IMDb IDs\n",
    "merged_df = pd.merge(merged_df, links_df, on='movieId', how='inner')\n",
    "\n",
    "# Filter Sci-Fi movies\n",
    "scifi_movies = merged_df[merged_df['genres'].str.contains('Sci-Fi')]\n",
    "\n",
    "# Find the Sci-Fi movie with the highest IMDb rating\n",
    "highest_rated_scifi_movie = scifi_movies.loc[scifi_movies['rating'].idxmax()]\n",
    "\n",
    "# Display the result\n",
    "print(\"Sci-Fi movie with the highest IMDb rating:\")\n",
    "print(\"movieId:\", highest_rated_scifi_movie['movieId'])\n",
    "print(\"IMDb Rating:\", highest_rated_scifi_movie['rating'])"
   ]
  },
  {
   "cell_type": "code",
   "execution_count": null,
   "id": "516511b2",
   "metadata": {},
   "outputs": [],
   "source": []
  }
 ],
 "metadata": {
  "kernelspec": {
   "display_name": "Python 3 (ipykernel)",
   "language": "python",
   "name": "python3"
  },
  "language_info": {
   "codemirror_mode": {
    "name": "ipython",
    "version": 3
   },
   "file_extension": ".py",
   "mimetype": "text/x-python",
   "name": "python",
   "nbconvert_exporter": "python",
   "pygments_lexer": "ipython3",
   "version": "3.10.9"
  }
 },
 "nbformat": 4,
 "nbformat_minor": 5
}
